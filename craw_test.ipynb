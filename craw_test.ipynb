{
 "cells": [
  {
   "cell_type": "code",
   "execution_count": 1,
   "metadata": {},
   "outputs": [],
   "source": [
    "from bs4 import BeautifulSoup\n",
    "import requests\n"
   ]
  },
  {
   "cell_type": "code",
   "execution_count": 2,
   "metadata": {},
   "outputs": [
    {
     "name": "stderr",
     "output_type": "stream",
     "text": [
      "/home/clarck/anaconda3/lib/python3.6/site-packages/urllib3/connectionpool.py:847: InsecureRequestWarning: Unverified HTTPS request is being made. Adding certificate verification is strongly advised. See: https://urllib3.readthedocs.io/en/latest/advanced-usage.html#ssl-warnings\n",
      "  InsecureRequestWarning)\n"
     ]
    }
   ],
   "source": [
    "rs = requests.session()\n",
    "res = rs.get('https://www.ptt.cc/bbs/Beauty/index.html', verify=False)\n",
    "soup = BeautifulSoup(res.text, 'html.parser')"
   ]
  },
  {
   "cell_type": "code",
   "execution_count": 3,
   "metadata": {},
   "outputs": [
    {
     "data": {
      "text/plain": [
       "200"
      ]
     },
     "execution_count": 3,
     "metadata": {},
     "output_type": "execute_result"
    }
   ],
   "source": [
    "res.status_code"
   ]
  },
  {
   "cell_type": "code",
   "execution_count": 4,
   "metadata": {},
   "outputs": [
    {
     "data": {
      "text/plain": [
       "<!DOCTYPE html>\n",
       "\n",
       "<html>\n",
       "<head>\n",
       "<meta charset=\"utf-8\"/>\n",
       "<meta content=\"width=device-width, initial-scale=1\" name=\"viewport\"/>\n",
       "<title>看板 Beauty 文章列表 - 批踢踢實業坊</title>\n",
       "<link href=\"//images.ptt.cc/bbs/v2.25/bbs-common.css\" rel=\"stylesheet\" type=\"text/css\"/>\n",
       "<link href=\"//images.ptt.cc/bbs/v2.25/bbs-base.css\" media=\"screen\" rel=\"stylesheet\" type=\"text/css\"/>\n",
       "<link href=\"//images.ptt.cc/bbs/v2.25/bbs-custom.css\" rel=\"stylesheet\" type=\"text/css\"/>\n",
       "<link href=\"//images.ptt.cc/bbs/v2.25/pushstream.css\" media=\"screen\" rel=\"stylesheet\" type=\"text/css\"/>\n",
       "<link href=\"//images.ptt.cc/bbs/v2.25/bbs-print.css\" media=\"print\" rel=\"stylesheet\" type=\"text/css\"/>\n",
       "</head>\n",
       "<body>\n",
       "<div id=\"topbar-container\">\n",
       "<div class=\"bbs-content\" id=\"topbar\">\n",
       "<a href=\"/bbs/\" id=\"logo\">批踢踢實業坊</a>\n",
       "<span>›</span>\n",
       "<a class=\"board\" href=\"/bbs/Beauty/index.html\"><span class=\"board-label\">看板 </span>Beauty</a>\n",
       "<a class=\"right small\" href=\"/about.html\">關於我們</a>\n",
       "<a class=\"right small\" href=\"/contact.html\">聯絡資訊</a>\n",
       "</div>\n",
       "</div>\n",
       "<div id=\"main-container\">\n",
       "<div id=\"action-bar-container\">\n",
       "<div class=\"action-bar\">\n",
       "<div class=\"btn-group btn-group-dir\">\n",
       "<a class=\"btn selected\" href=\"/bbs/Beauty/index.html\">看板</a>\n",
       "<a class=\"btn\" href=\"/man/Beauty/index.html\">精華區</a>\n",
       "</div>\n",
       "<div class=\"btn-group btn-group-paging\">\n",
       "<a class=\"btn wide\" href=\"/bbs/Beauty/index1.html\">最舊</a>\n",
       "<a class=\"btn wide\" href=\"/bbs/Beauty/index2973.html\">‹ 上頁</a>\n",
       "<a class=\"btn wide disabled\">下頁 ›</a>\n",
       "<a class=\"btn wide\" href=\"/bbs/Beauty/index.html\">最新</a>\n",
       "</div>\n",
       "</div>\n",
       "</div>\n",
       "<div class=\"r-list-container action-bar-margin bbs-screen\">\n",
       "<div class=\"search-bar\">\n",
       "<form action=\"search\" id=\"search-bar\" type=\"get\">\n",
       "<input class=\"query\" name=\"q\" placeholder=\"搜尋文章⋯\" type=\"text\" value=\"\"/>\n",
       "</form>\n",
       "</div>\n",
       "<div class=\"r-ent\">\n",
       "<div class=\"nrec\"><span class=\"hl f2\">5</span></div>\n",
       "<div class=\"title\">\n",
       "<a href=\"/bbs/Beauty/M.1561030430.A.353.html\">[神人] 右邊那位女孩是誰?</a>\n",
       "</div>\n",
       "<div class=\"meta\">\n",
       "<div class=\"author\">OmegaDog</div>\n",
       "<div class=\"article-menu\">\n",
       "<div class=\"trigger\">⋯</div>\n",
       "<div class=\"dropdown\">\n",
       "<div class=\"item\"><a href=\"/bbs/Beauty/search?q=thread%3A%5B%E7%A5%9E%E4%BA%BA%5D+%E5%8F%B3%E9%82%8A%E9%82%A3%E4%BD%8D%E5%A5%B3%E5%AD%A9%E6%98%AF%E8%AA%B0%3F\">搜尋同標題文章</a></div>\n",
       "<div class=\"item\"><a href=\"/bbs/Beauty/search?q=author%3AOmegaDog\">搜尋看板內 OmegaDog 的文章</a></div>\n",
       "</div>\n",
       "</div>\n",
       "<div class=\"date\"> 6/20</div>\n",
       "<div class=\"mark\"></div>\n",
       "</div>\n",
       "</div>\n",
       "<div class=\"r-ent\">\n",
       "<div class=\"nrec\"></div>\n",
       "<div class=\"title\">\n",
       "<a href=\"/bbs/Beauty/M.1561032171.A.565.html\">[正妹]捐血車上的神腿護理師配超暖笑容 </a>\n",
       "</div>\n",
       "<div class=\"meta\">\n",
       "<div class=\"author\">dannyc</div>\n",
       "<div class=\"article-menu\">\n",
       "<div class=\"trigger\">⋯</div>\n",
       "<div class=\"dropdown\">\n",
       "<div class=\"item\"><a href=\"/bbs/Beauty/search?q=thread%3A%5B%E6%AD%A3%E5%A6%B9%5D%E6%8D%90%E8%A1%80%E8%BB%8A%E4%B8%8A%E7%9A%84%E7%A5%9E%E8%85%BF%E8%AD%B7%E7%90%86%E5%B8%AB%E9%85%8D%E8%B6%85%E6%9A%96%E7%AC%91%E5%AE%B9+\">搜尋同標題文章</a></div>\n",
       "<div class=\"item\"><a href=\"/bbs/Beauty/search?q=author%3Adannyc\">搜尋看板內 dannyc 的文章</a></div>\n",
       "</div>\n",
       "</div>\n",
       "<div class=\"date\"> 6/20</div>\n",
       "<div class=\"mark\"></div>\n",
       "</div>\n",
       "</div>\n",
       "<div class=\"r-ent\">\n",
       "<div class=\"nrec\"><span class=\"hl f0\">X1</span></div>\n",
       "<div class=\"title\">\n",
       "<a href=\"/bbs/Beauty/M.1561033781.A.B91.html\">[神人] 被韓國瑜摸頭的女生是誰?</a>\n",
       "</div>\n",
       "<div class=\"meta\">\n",
       "<div class=\"author\">greed720</div>\n",
       "<div class=\"article-menu\">\n",
       "<div class=\"trigger\">⋯</div>\n",
       "<div class=\"dropdown\">\n",
       "<div class=\"item\"><a href=\"/bbs/Beauty/search?q=thread%3A%5B%E7%A5%9E%E4%BA%BA%5D+%E8%A2%AB%E9%9F%93%E5%9C%8B%E7%91%9C%E6%91%B8%E9%A0%AD%E7%9A%84%E5%A5%B3%E7%94%9F%E6%98%AF%E8%AA%B0%3F\">搜尋同標題文章</a></div>\n",
       "<div class=\"item\"><a href=\"/bbs/Beauty/search?q=author%3Agreed720\">搜尋看板內 greed720 的文章</a></div>\n",
       "</div>\n",
       "</div>\n",
       "<div class=\"date\"> 6/20</div>\n",
       "<div class=\"mark\"></div>\n",
       "</div>\n",
       "</div>\n",
       "<div class=\"r-ent\">\n",
       "<div class=\"nrec\"><span class=\"hl f2\">6</span></div>\n",
       "<div class=\"title\">\n",
       "<a href=\"/bbs/Beauty/M.1561036748.A.5DA.html\">[神人] 採訪長榮罷工的記者</a>\n",
       "</div>\n",
       "<div class=\"meta\">\n",
       "<div class=\"author\">dougho</div>\n",
       "<div class=\"article-menu\">\n",
       "<div class=\"trigger\">⋯</div>\n",
       "<div class=\"dropdown\">\n",
       "<div class=\"item\"><a href=\"/bbs/Beauty/search?q=thread%3A%5B%E7%A5%9E%E4%BA%BA%5D+%E6%8E%A1%E8%A8%AA%E9%95%B7%E6%A6%AE%E7%BD%B7%E5%B7%A5%E7%9A%84%E8%A8%98%E8%80%85\">搜尋同標題文章</a></div>\n",
       "<div class=\"item\"><a href=\"/bbs/Beauty/search?q=author%3Adougho\">搜尋看板內 dougho 的文章</a></div>\n",
       "</div>\n",
       "</div>\n",
       "<div class=\"date\"> 6/20</div>\n",
       "<div class=\"mark\"></div>\n",
       "</div>\n",
       "</div>\n",
       "<div class=\"r-ent\">\n",
       "<div class=\"nrec\"><span class=\"hl f2\">1</span></div>\n",
       "<div class=\"title\">\n",
       "<a href=\"/bbs/Beauty/M.1561038518.A.5F2.html\">[公告] 退文</a>\n",
       "</div>\n",
       "<div class=\"meta\">\n",
       "<div class=\"author\">Forthelife</div>\n",
       "<div class=\"article-menu\">\n",
       "<div class=\"trigger\">⋯</div>\n",
       "<div class=\"dropdown\">\n",
       "<div class=\"item\"><a href=\"/bbs/Beauty/search?q=thread%3A%5B%E5%85%AC%E5%91%8A%5D+%E9%80%80%E6%96%87\">搜尋同標題文章</a></div>\n",
       "<div class=\"item\"><a href=\"/bbs/Beauty/search?q=author%3AForthelife\">搜尋看板內 Forthelife 的文章</a></div>\n",
       "</div>\n",
       "</div>\n",
       "<div class=\"date\"> 6/20</div>\n",
       "<div class=\"mark\"></div>\n",
       "</div>\n",
       "</div>\n",
       "<div class=\"r-ent\">\n",
       "<div class=\"nrec\"><span class=\"hl f2\">2</span></div>\n",
       "<div class=\"title\">\n",
       "<a href=\"/bbs/Beauty/M.1561039703.A.2CC.html\">[神人] 不知在哪抓的/已解答</a>\n",
       "</div>\n",
       "<div class=\"meta\">\n",
       "<div class=\"author\">arsonlolita</div>\n",
       "<div class=\"article-menu\">\n",
       "<div class=\"trigger\">⋯</div>\n",
       "<div class=\"dropdown\">\n",
       "<div class=\"item\"><a href=\"/bbs/Beauty/search?q=thread%3A%5B%E7%A5%9E%E4%BA%BA%5D+%E4%B8%8D%E7%9F%A5%E5%9C%A8%E5%93%AA%E6%8A%93%E7%9A%84%2F%E5%B7%B2%E8%A7%A3%E7%AD%94\">搜尋同標題文章</a></div>\n",
       "<div class=\"item\"><a href=\"/bbs/Beauty/search?q=author%3Aarsonlolita\">搜尋看板內 arsonlolita 的文章</a></div>\n",
       "</div>\n",
       "</div>\n",
       "<div class=\"date\"> 6/20</div>\n",
       "<div class=\"mark\"></div>\n",
       "</div>\n",
       "</div>\n",
       "<div class=\"r-ent\">\n",
       "<div class=\"nrec\"></div>\n",
       "<div class=\"title\">\n",
       "\t\t\t\n",
       "\t\t\t\t(本文已被刪除) [VeryGoodBoy]\n",
       "\t\t\t\n",
       "\t\t\t</div>\n",
       "<div class=\"meta\">\n",
       "<div class=\"author\">-</div>\n",
       "<div class=\"article-menu\">\n",
       "</div>\n",
       "<div class=\"date\"> 6/20</div>\n",
       "<div class=\"mark\"></div>\n",
       "</div>\n",
       "</div>\n",
       "<div class=\"r-ent\">\n",
       "<div class=\"nrec\"></div>\n",
       "<div class=\"title\">\n",
       "<a href=\"/bbs/Beauty/M.1561042994.A.4B2.html\">[神人］基隆長榮桂冠</a>\n",
       "</div>\n",
       "<div class=\"meta\">\n",
       "<div class=\"author\">gragory</div>\n",
       "<div class=\"article-menu\">\n",
       "<div class=\"trigger\">⋯</div>\n",
       "<div class=\"dropdown\">\n",
       "<div class=\"item\"><a href=\"/bbs/Beauty/search?q=thread%3A%5B%E7%A5%9E%E4%BA%BA%EF%BC%BD%E5%9F%BA%E9%9A%86%E9%95%B7%E6%A6%AE%E6%A1%82%E5%86%A0\">搜尋同標題文章</a></div>\n",
       "<div class=\"item\"><a href=\"/bbs/Beauty/search?q=author%3Agragory\">搜尋看板內 gragory 的文章</a></div>\n",
       "</div>\n",
       "</div>\n",
       "<div class=\"date\"> 6/20</div>\n",
       "<div class=\"mark\"></div>\n",
       "</div>\n",
       "</div>\n",
       "<div class=\"r-ent\">\n",
       "<div class=\"nrec\"><span class=\"hl f2\">8</span></div>\n",
       "<div class=\"title\">\n",
       "<a href=\"/bbs/Beauty/M.1561043845.A.844.html\">[正妹] GFRIEND迷你七輯《Fever Season》概念照2</a>\n",
       "</div>\n",
       "<div class=\"meta\">\n",
       "<div class=\"author\">willy911006</div>\n",
       "<div class=\"article-menu\">\n",
       "<div class=\"trigger\">⋯</div>\n",
       "<div class=\"dropdown\">\n",
       "<div class=\"item\"><a href=\"/bbs/Beauty/search?q=thread%3A%5B%E6%AD%A3%E5%A6%B9%5D+GFRIEND%E8%BF%B7%E4%BD%A0%E4%B8%83%E8%BC%AF%E3%80%8AFever+Season%E3%80%8B%E6%A6%82%E5%BF%B5%E7%85%A72\">搜尋同標題文章</a></div>\n",
       "<div class=\"item\"><a href=\"/bbs/Beauty/search?q=author%3Awilly911006\">搜尋看板內 willy911006 的文章</a></div>\n",
       "</div>\n",
       "</div>\n",
       "<div class=\"date\"> 6/20</div>\n",
       "<div class=\"mark\"></div>\n",
       "</div>\n",
       "</div>\n",
       "<div class=\"r-ent\">\n",
       "<div class=\"nrec\"></div>\n",
       "<div class=\"title\">\n",
       "<a href=\"/bbs/Beauty/M.1561046559.A.BF2.html\">[挑戰] 童顏媽媽</a>\n",
       "</div>\n",
       "<div class=\"meta\">\n",
       "<div class=\"author\">timsb</div>\n",
       "<div class=\"article-menu\">\n",
       "<div class=\"trigger\">⋯</div>\n",
       "<div class=\"dropdown\">\n",
       "<div class=\"item\"><a href=\"/bbs/Beauty/search?q=thread%3A%5B%E6%8C%91%E6%88%B0%5D+%E7%AB%A5%E9%A1%8F%E5%AA%BD%E5%AA%BD\">搜尋同標題文章</a></div>\n",
       "<div class=\"item\"><a href=\"/bbs/Beauty/search?q=author%3Atimsb\">搜尋看板內 timsb 的文章</a></div>\n",
       "</div>\n",
       "</div>\n",
       "<div class=\"date\"> 6/21</div>\n",
       "<div class=\"mark\"></div>\n",
       "</div>\n",
       "</div>\n",
       "<div class=\"r-ent\">\n",
       "<div class=\"nrec\"><span class=\"hl f2\">1</span></div>\n",
       "<div class=\"title\">\n",
       "<a href=\"/bbs/Beauty/M.1561047149.A.A3E.html\">[正妹] 微短</a>\n",
       "</div>\n",
       "<div class=\"meta\">\n",
       "<div class=\"author\">Secret69</div>\n",
       "<div class=\"article-menu\">\n",
       "<div class=\"trigger\">⋯</div>\n",
       "<div class=\"dropdown\">\n",
       "<div class=\"item\"><a href=\"/bbs/Beauty/search?q=thread%3A%5B%E6%AD%A3%E5%A6%B9%5D+%E5%BE%AE%E7%9F%AD\">搜尋同標題文章</a></div>\n",
       "<div class=\"item\"><a href=\"/bbs/Beauty/search?q=author%3ASecret69\">搜尋看板內 Secret69 的文章</a></div>\n",
       "</div>\n",
       "</div>\n",
       "<div class=\"date\"> 6/21</div>\n",
       "<div class=\"mark\"></div>\n",
       "</div>\n",
       "</div>\n",
       "<div class=\"r-list-sep\"></div>\n",
       "<div class=\"r-ent\">\n",
       "<div class=\"nrec\"><span class=\"hl f0\">XX</span></div>\n",
       "<div class=\"title\">\n",
       "<a href=\"/bbs/Beauty/M.1557742996.A.657.html\">[公告] 開放噓文暫停X1條款</a>\n",
       "</div>\n",
       "<div class=\"meta\">\n",
       "<div class=\"author\">hateOnas</div>\n",
       "<div class=\"article-menu\">\n",
       "<div class=\"trigger\">⋯</div>\n",
       "<div class=\"dropdown\">\n",
       "<div class=\"item\"><a href=\"/bbs/Beauty/search?q=thread%3A%5B%E5%85%AC%E5%91%8A%5D+%E9%96%8B%E6%94%BE%E5%99%93%E6%96%87%E6%9A%AB%E5%81%9CX1%E6%A2%9D%E6%AC%BE\">搜尋同標題文章</a></div>\n",
       "<div class=\"item\"><a href=\"/bbs/Beauty/search?q=author%3AhateOnas\">搜尋看板內 hateOnas 的文章</a></div>\n",
       "</div>\n",
       "</div>\n",
       "<div class=\"date\"> 5/13</div>\n",
       "<div class=\"mark\">M</div>\n",
       "</div>\n",
       "</div>\n",
       "<div class=\"r-ent\">\n",
       "<div class=\"nrec\"><span class=\"hl f3\">23</span></div>\n",
       "<div class=\"title\">\n",
       "<a href=\"/bbs/Beauty/M.1558415952.A.8D7.html\">[公告] 不願上表特 ＆ 優文推薦 ＆ 檢舉建議專區</a>\n",
       "</div>\n",
       "<div class=\"meta\">\n",
       "<div class=\"author\">hateOnas</div>\n",
       "<div class=\"article-menu\">\n",
       "<div class=\"trigger\">⋯</div>\n",
       "<div class=\"dropdown\">\n",
       "<div class=\"item\"><a href=\"/bbs/Beauty/search?q=thread%3A%5B%E5%85%AC%E5%91%8A%5D+%E4%B8%8D%E9%A1%98%E4%B8%8A%E8%A1%A8%E7%89%B9+%EF%BC%86+%E5%84%AA%E6%96%87%E6%8E%A8%E8%96%A6+%EF%BC%86+%E6%AA%A2%E8%88%89%E5%BB%BA%E8%AD%B0%E5%B0%88%E5%8D%80\">搜尋同標題文章</a></div>\n",
       "<div class=\"item\"><a href=\"/bbs/Beauty/search?q=author%3AhateOnas\">搜尋看板內 hateOnas 的文章</a></div>\n",
       "</div>\n",
       "</div>\n",
       "<div class=\"date\"> 5/21</div>\n",
       "<div class=\"mark\"></div>\n",
       "</div>\n",
       "</div>\n",
       "<div class=\"r-ent\">\n",
       "<div class=\"nrec\"><span class=\"hl f2\">2</span></div>\n",
       "<div class=\"title\">\n",
       "<a href=\"/bbs/Beauty/M.1559198987.A.D8F.html\">[公告] 表特板板規(2019.5.30)</a>\n",
       "</div>\n",
       "<div class=\"meta\">\n",
       "<div class=\"author\">Forthelife</div>\n",
       "<div class=\"article-menu\">\n",
       "<div class=\"trigger\">⋯</div>\n",
       "<div class=\"dropdown\">\n",
       "<div class=\"item\"><a href=\"/bbs/Beauty/search?q=thread%3A%5B%E5%85%AC%E5%91%8A%5D+%E8%A1%A8%E7%89%B9%E6%9D%BF%E6%9D%BF%E8%A6%8F%282019.5.30%29\">搜尋同標題文章</a></div>\n",
       "<div class=\"item\"><a href=\"/bbs/Beauty/search?q=author%3AForthelife\">搜尋看板內 Forthelife 的文章</a></div>\n",
       "</div>\n",
       "</div>\n",
       "<div class=\"date\"> 5/30</div>\n",
       "<div class=\"mark\"></div>\n",
       "</div>\n",
       "</div>\n",
       "</div>\n",
       "</div>\n",
       "<script>\n",
       "  (function(i,s,o,g,r,a,m){i['GoogleAnalyticsObject']=r;i[r]=i[r]||function(){\n",
       "  (i[r].q=i[r].q||[]).push(arguments)},i[r].l=1*new Date();a=s.createElement(o),\n",
       "  m=s.getElementsByTagName(o)[0];a.async=1;a.src=g;m.parentNode.insertBefore(a,m)\n",
       "  })(window,document,'script','https://www.google-analytics.com/analytics.js','ga');\n",
       "\n",
       "  ga('create', 'UA-32365737-1', {\n",
       "    cookieDomain: 'ptt.cc',\n",
       "    legacyCookieDomain: 'ptt.cc'\n",
       "  });\n",
       "  ga('send', 'pageview');\n",
       "</script>\n",
       "<script src=\"//ajax.googleapis.com/ajax/libs/jquery/2.1.1/jquery.min.js\"></script>\n",
       "<script src=\"//images.ptt.cc/bbs/v2.25/bbs.js\"></script>\n",
       "</body>\n",
       "</html>"
      ]
     },
     "execution_count": 4,
     "metadata": {},
     "output_type": "execute_result"
    }
   ],
   "source": [
    "soup"
   ]
  },
  {
   "cell_type": "code",
   "execution_count": 55,
   "metadata": {},
   "outputs": [
    {
     "name": "stdout",
     "output_type": "stream",
     "text": [
      "<a class=\"btn wide\" href=\"/bbs/Beauty/index2970.html\">‹ 上頁</a>\n",
      "/bbs/Beauty/index2970.html\n",
      "2970\n"
     ]
    }
   ],
   "source": [
    "page_option = soup.find(id=\"action-bar-container\")\n",
    "\n",
    "tag = page_option.find_all(class_=\"btn wide\")[1]\n",
    "print(tag)\n",
    "\n",
    "link = tag.get('href')\n",
    "print(link)\n",
    "\n",
    "index = int(link[link.find('index')+5:link.find('.html')])\n",
    "print(index)"
   ]
  },
  {
   "cell_type": "code",
   "execution_count": 64,
   "metadata": {},
   "outputs": [
    {
     "name": "stdout",
     "output_type": "stream",
     "text": [
      "['https://www.ptt.cc/bbs/Beauty/index2970.html']\n",
      "target_time=2019-06-20 01:15:46.084160\n"
     ]
    }
   ],
   "source": [
    "explore_page = 1\n",
    "\n",
    "url_list = []\n",
    "for i in range(explore_page):\n",
    "    url_list.append(\"https://www.ptt.cc/bbs/Beauty/index{}.html\".format(index-i))\n",
    "print(url_list)\n",
    "\n",
    "target_time = datetime.now() - timedelta(days=1)\n",
    "print(\"target_time={}\".format(target_time))"
   ]
  },
  {
   "cell_type": "code",
   "execution_count": 65,
   "metadata": {
    "scrolled": true
   },
   "outputs": [
    {
     "name": "stdout",
     "output_type": "stream",
     "text": [
      "start crawler page https://www.ptt.cc/bbs/Beauty/index2970.html\n",
      "subject=[正妹] 日本Youtuber まこち\n",
      "link=/bbs/Beauty/M.1560796434.A.B40.html\n",
      "dateli=[' 6', '18']\n",
      "push_cnt=28\n",
      "subject=[正妹] 簡廷芮\n",
      "link=/bbs/Beauty/M.1560808282.A.A3A.html\n",
      "dateli=[' 6', '18']\n",
      "push_cnt=50\n",
      "subject=[帥哥] 凍齡 郭品超\n",
      "link=/bbs/Beauty/M.1560820262.A.87F.html\n",
      "dateli=[' 6', '18']\n",
      "push_cnt=14\n",
      "subject=[正妹] 護理師綁馬尾\n",
      "link=/bbs/Beauty/M.1560820884.A.B7D.html\n",
      "dateli=[' 6', '18']\n",
      "push_cnt=6\n",
      "subject=[廣告] 驚呆！逆天長腿女星「志田友美」入浴照曝\n",
      "link=/bbs/Beauty/M.1560822424.A.1DC.html\n",
      "dateli=[' 6', '18']\n",
      "push_cnt=2\n",
      "subject=[正妹] Twice Momo in Breakthrough\n",
      "link=/bbs/Beauty/M.1560824858.A.314.html\n",
      "dateli=[' 6', '18']\n",
      "push_cnt=42\n",
      "subject=[正妹] 來自白俄羅斯的仙女 Anastasia Cebulska\n",
      "link=/bbs/Beauty/M.1560827733.A.8A1.html\n",
      "dateli=[' 6', '18']\n",
      "push_cnt=100\n",
      "subject=[新聞] 網球美少女廖羽芊　未來要當長照尖兵\n",
      "link=/bbs/Beauty/M.1560831273.A.693.html\n",
      "dateli=[' 6', '18']\n",
      "push_cnt=0\n",
      "本文已被刪除\n",
      "\n",
      "subject=[正妹] 港女\n",
      "link=/bbs/Beauty/M.1560835411.A.146.html\n",
      "dateli=[' 6', '18']\n",
      "push_cnt=31\n",
      "subject=[正妹] 俄羅斯正妹\n",
      "link=/bbs/Beauty/M.1560841087.A.6CA.html\n",
      "dateli=[' 6', '18']\n",
      "push_cnt=8\n",
      "subject=[正妹] 飽妮\n",
      "link=/bbs/Beauty/M.1560841691.A.4BB.html\n",
      "dateli=[' 6', '18']\n",
      "push_cnt=2\n",
      "subject=[正妹] 左右為難\n",
      "link=/bbs/Beauty/M.1560842580.A.700.html\n",
      "dateli=[' 6', '18']\n",
      "push_cnt=0\n",
      "subject=[正妹] 幾個妹\n",
      "link=/bbs/Beauty/M.1560843831.A.BDA.html\n",
      "dateli=[' 6', '18']\n",
      "push_cnt=0\n",
      "subject=[正妹] 奶妹評鑑家 #10 地球儀\n",
      "link=/bbs/Beauty/M.1560843988.A.09A.html\n",
      "dateli=[' 6', '18']\n",
      "push_cnt=77\n",
      "本文已被刪除\n",
      "\n",
      "本文已被刪除\n",
      "\n",
      "subject=[正妹] Joo\n",
      "link=/bbs/Beauty/M.1560848085.A.C56.html\n",
      "dateli=[' 6', '18']\n",
      "push_cnt=7\n",
      "subject=[神人] 網頁廣告\n",
      "link=/bbs/Beauty/M.1560851708.A.059.html\n",
      "dateli=[' 6', '18']\n",
      "push_cnt=3\n",
      "subject=[正妹] 俄羅斯好身材Demina Maria\n",
      "link=/bbs/Beauty/M.1560853912.A.436.html\n",
      "dateli=[' 6', '18']\n",
      "push_cnt=37\n",
      "[]\n"
     ]
    },
    {
     "name": "stderr",
     "output_type": "stream",
     "text": [
      "/home/clarck/anaconda3/lib/python3.6/site-packages/urllib3/connectionpool.py:847: InsecureRequestWarning: Unverified HTTPS request is being made. Adding certificate verification is strongly advised. See: https://urllib3.readthedocs.io/en/latest/advanced-usage.html#ssl-warnings\n",
      "  InsecureRequestWarning)\n"
     ]
    }
   ],
   "source": [
    "find = True\n",
    "\n",
    "while url_list and find :\n",
    "    url = url_list.pop(0)\n",
    "    res = rs.get(url, verify=False)\n",
    "    soup = BeautifulSoup(res.text, 'html.parser')\n",
    "    find = False # initial\n",
    "    \n",
    "    print(\"start crawler page {}\".format(url))\n",
    "    \n",
    "    for r_ent in soup.find_all(class_=\"r-ent\"):\n",
    "        try:\n",
    "            subject = r_ent.find('div', class_=\"title\")\n",
    "            if subject.a == None:\n",
    "                print(\"本文已被刪除\")\n",
    "                print(\"\")\n",
    "                continue\n",
    "            print(\"subject={}\".format(subject.a.string))                \n",
    "                \n",
    "            link = r_ent.find('a')['href']\n",
    "            print(\"link={}\".format(link))\n",
    "\n",
    "            date_li = r_ent.find(\"div\", class_=\"date\").string.split('/')\n",
    "            print(\"dateli={}\".format(date_li))\n",
    "            \n",
    "            push_cnt = r_ent.find(class_=\"nrec\").text\n",
    "            if push_cnt == \"爆\":\n",
    "                push_cnt = 100\n",
    "            elif push_cnt.find(\"X\") > 0 :\n",
    "                push_cnt = -1\n",
    "            elif push_cnt == \"\":\n",
    "                push_cnt = 0\n",
    "            print(\"push_cnt={}\".format(push_cnt))\n",
    "            \n",
    "            if int(date_li[0]) == target_time.month  and int(date_li[1]) == target_time.day:\n",
    "                print(\"Need process\")\n",
    "                find = True # has find target day, need continue\n",
    "            \n",
    "            if r_ent.next_sibling:\n",
    "                if r_ent.next_sibling.next_sibling:\n",
    "                    next_class_type = r_ent.next_sibling.next_sibling.get('class')[0]\n",
    "                    if next_class_type == \"r-list-sep\":\n",
    "                        break\n",
    "\n",
    "    #         print(type(r_ent))\n",
    "\n",
    "        except Exception as e:\n",
    "            print('Error={}'.format(e))\n",
    "            print(r_ent)\n",
    "\n",
    "            \n",
    "print(url_list)\n"
   ]
  },
  {
   "cell_type": "code",
   "execution_count": 23,
   "metadata": {},
   "outputs": [
    {
     "name": "stdout",
     "output_type": "stream",
     "text": [
      "2005-06-01 13:33:00\n",
      "2019-06-19 01:59:12\n",
      "2019-06-21 00:41:36.469157\n",
      "10\n",
      "6/18\n"
     ]
    }
   ],
   "source": [
    "from datetime import datetime\n",
    "from datetime import timedelta\n",
    "\n",
    "datetime_object = datetime.strptime('Jun 1 2005  1:33PM', '%b %d %Y %I:%M%p')\n",
    "print(datetime_object)\n",
    "\n",
    "datetime_object = datetime.strptime('2019/06/19 01:59:12', '%Y/%m/%d %H:%M:%S')\n",
    "print(datetime_object)\n",
    "\n",
    "print(datetime.now() )\n",
    "\n",
    "\n",
    "page_time = datetime.strptime( str(datetime.now().year) + '/06/11', '%Y/%m/%d') \n",
    "\n",
    "\n",
    "delta = datetime.now() - page_time\n",
    "print(delta.days)\n",
    "\n",
    "\n",
    "target_time = datetime.now() - timedelta(days=3)\n",
    "print(str(page_time.month) + \"/\" + str(page_time.day))\n"
   ]
  },
  {
   "cell_type": "code",
   "execution_count": 7,
   "metadata": {},
   "outputs": [
    {
     "ename": "SyntaxError",
     "evalue": "unexpected EOF while parsing (<ipython-input-7-1f71b3a5835d>, line 1)",
     "output_type": "error",
     "traceback": [
      "\u001b[0;36m  File \u001b[0;32m\"<ipython-input-7-1f71b3a5835d>\"\u001b[0;36m, line \u001b[0;32m1\u001b[0m\n\u001b[0;31m    for r_ent in soup.find_all(class_=\"r-ent\"):\u001b[0m\n\u001b[0m                                               ^\u001b[0m\n\u001b[0;31mSyntaxError\u001b[0m\u001b[0;31m:\u001b[0m unexpected EOF while parsing\n"
     ]
    }
   ],
   "source": [
    "for r_ent in soup.find_all(class_=\"r-ent\"):"
   ]
  },
  {
   "cell_type": "code",
   "execution_count": 8,
   "metadata": {},
   "outputs": [],
   "source": [
    "page_option = soup.find(id=\"action-bar-container\")"
   ]
  },
  {
   "cell_type": "code",
   "execution_count": 9,
   "metadata": {},
   "outputs": [
    {
     "data": {
      "text/plain": [
       "<div id=\"action-bar-container\">\n",
       "<div class=\"action-bar\">\n",
       "<div class=\"btn-group btn-group-dir\">\n",
       "<a class=\"btn selected\" href=\"/bbs/Beauty/index.html\">看板</a>\n",
       "<a class=\"btn\" href=\"/man/Beauty/index.html\">精華區</a>\n",
       "</div>\n",
       "<div class=\"btn-group btn-group-paging\">\n",
       "<a class=\"btn wide\" href=\"/bbs/Beauty/index1.html\">最舊</a>\n",
       "<a class=\"btn wide\" href=\"/bbs/Beauty/index2971.html\">‹ 上頁</a>\n",
       "<a class=\"btn wide disabled\">下頁 ›</a>\n",
       "<a class=\"btn wide\" href=\"/bbs/Beauty/index.html\">最新</a>\n",
       "</div>\n",
       "</div>\n",
       "</div>"
      ]
     },
     "execution_count": 9,
     "metadata": {},
     "output_type": "execute_result"
    }
   ],
   "source": [
    "page_option"
   ]
  },
  {
   "cell_type": "code",
   "execution_count": 10,
   "metadata": {
    "scrolled": true
   },
   "outputs": [
    {
     "name": "stdout",
     "output_type": "stream",
     "text": [
      "<a class=\"btn wide\" href=\"/bbs/Beauty/index1.html\">最舊</a>\n",
      "<a class=\"btn wide\" href=\"/bbs/Beauty/index2971.html\">‹ 上頁</a>\n",
      "!\n",
      "<a class=\"btn wide\" href=\"/bbs/Beauty/index.html\">最新</a>\n"
     ]
    }
   ],
   "source": [
    "for btn in page_option.find_all(class_=\"btn wide\"):\n",
    "    print(btn)\n",
    "    if \"‹ 上頁\" in btn :\n",
    "        print(\"!\")\n",
    "    "
   ]
  },
  {
   "cell_type": "code",
   "execution_count": 21,
   "metadata": {},
   "outputs": [
    {
     "data": {
      "text/plain": [
       "<a class=\"btn wide\" href=\"/bbs/Beauty/index2971.html\">‹ 上頁</a>"
      ]
     },
     "execution_count": 21,
     "metadata": {},
     "output_type": "execute_result"
    }
   ],
   "source": [
    "tag = page_option.find_all(class_=\"btn wide\")[1]\n",
    "tag"
   ]
  },
  {
   "cell_type": "code",
   "execution_count": 27,
   "metadata": {},
   "outputs": [
    {
     "data": {
      "text/plain": [
       "'/bbs/Beauty/index2971.html'"
      ]
     },
     "execution_count": 27,
     "metadata": {},
     "output_type": "execute_result"
    }
   ],
   "source": [
    "link = tag.get('href')\n",
    "link"
   ]
  },
  {
   "cell_type": "code",
   "execution_count": 30,
   "metadata": {},
   "outputs": [
    {
     "name": "stdout",
     "output_type": "stream",
     "text": [
      "2971\n"
     ]
    }
   ],
   "source": [
    "index = int(link[link.find('index')+5:link.find('.html')])\n",
    "print(index)"
   ]
  },
  {
   "cell_type": "code",
   "execution_count": 59,
   "metadata": {},
   "outputs": [
    {
     "data": {
      "text/plain": [
       "''"
      ]
     },
     "execution_count": 59,
     "metadata": {},
     "output_type": "execute_result"
    }
   ],
   "source": [
    "r_ent.find(class_=\"nrec\").text"
   ]
  }
 ],
 "metadata": {
  "kernelspec": {
   "display_name": "Python 3",
   "language": "python",
   "name": "python3"
  },
  "language_info": {
   "codemirror_mode": {
    "name": "ipython",
    "version": 3
   },
   "file_extension": ".py",
   "mimetype": "text/x-python",
   "name": "python",
   "nbconvert_exporter": "python",
   "pygments_lexer": "ipython3",
   "version": "3.6.8"
  }
 },
 "nbformat": 4,
 "nbformat_minor": 2
}
