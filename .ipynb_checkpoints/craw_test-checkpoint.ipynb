{
 "cells": [
  {
   "cell_type": "code",
   "execution_count": 1,
   "metadata": {},
   "outputs": [],
   "source": [
    "from bs4 import BeautifulSoup\n",
    "import requests\n"
   ]
  },
  {
   "cell_type": "code",
   "execution_count": 2,
   "metadata": {},
   "outputs": [
    {
     "name": "stderr",
     "output_type": "stream",
     "text": [
      "/home/clarck/anaconda3/lib/python3.6/site-packages/urllib3/connectionpool.py:847: InsecureRequestWarning: Unverified HTTPS request is being made. Adding certificate verification is strongly advised. See: https://urllib3.readthedocs.io/en/latest/advanced-usage.html#ssl-warnings\n",
      "  InsecureRequestWarning)\n"
     ]
    }
   ],
   "source": [
    "rs = requests.session()\n",
    "res = rs.get('https://www.ptt.cc/bbs/Beauty/index.html', verify=False)\n",
    "soup = BeautifulSoup(res.text, 'html.parser')"
   ]
  },
  {
   "cell_type": "code",
   "execution_count": 3,
   "metadata": {},
   "outputs": [
    {
     "data": {
      "text/plain": [
       "200"
      ]
     },
     "execution_count": 3,
     "metadata": {},
     "output_type": "execute_result"
    }
   ],
   "source": [
    "res.status_code"
   ]
  },
  {
   "cell_type": "code",
   "execution_count": 4,
   "metadata": {},
   "outputs": [
    {
     "data": {
      "text/plain": [
       "<!DOCTYPE html>\n",
       "\n",
       "<html>\n",
       "<head>\n",
       "<meta charset=\"utf-8\"/>\n",
       "<meta content=\"width=device-width, initial-scale=1\" name=\"viewport\"/>\n",
       "<title>看板 Beauty 文章列表 - 批踢踢實業坊</title>\n",
       "<link href=\"//images.ptt.cc/bbs/v2.25/bbs-common.css\" rel=\"stylesheet\" type=\"text/css\"/>\n",
       "<link href=\"//images.ptt.cc/bbs/v2.25/bbs-base.css\" media=\"screen\" rel=\"stylesheet\" type=\"text/css\"/>\n",
       "<link href=\"//images.ptt.cc/bbs/v2.25/bbs-custom.css\" rel=\"stylesheet\" type=\"text/css\"/>\n",
       "<link href=\"//images.ptt.cc/bbs/v2.25/pushstream.css\" media=\"screen\" rel=\"stylesheet\" type=\"text/css\"/>\n",
       "<link href=\"//images.ptt.cc/bbs/v2.25/bbs-print.css\" media=\"print\" rel=\"stylesheet\" type=\"text/css\"/>\n",
       "</head>\n",
       "<body>\n",
       "<div id=\"topbar-container\">\n",
       "<div class=\"bbs-content\" id=\"topbar\">\n",
       "<a href=\"/bbs/\" id=\"logo\">批踢踢實業坊</a>\n",
       "<span>›</span>\n",
       "<a class=\"board\" href=\"/bbs/Beauty/index.html\"><span class=\"board-label\">看板 </span>Beauty</a>\n",
       "<a class=\"right small\" href=\"/about.html\">關於我們</a>\n",
       "<a class=\"right small\" href=\"/contact.html\">聯絡資訊</a>\n",
       "</div>\n",
       "</div>\n",
       "<div id=\"main-container\">\n",
       "<div id=\"action-bar-container\">\n",
       "<div class=\"action-bar\">\n",
       "<div class=\"btn-group btn-group-dir\">\n",
       "<a class=\"btn selected\" href=\"/bbs/Beauty/index.html\">看板</a>\n",
       "<a class=\"btn\" href=\"/man/Beauty/index.html\">精華區</a>\n",
       "</div>\n",
       "<div class=\"btn-group btn-group-paging\">\n",
       "<a class=\"btn wide\" href=\"/bbs/Beauty/index1.html\">最舊</a>\n",
       "<a class=\"btn wide\" href=\"/bbs/Beauty/index2971.html\">‹ 上頁</a>\n",
       "<a class=\"btn wide disabled\">下頁 ›</a>\n",
       "<a class=\"btn wide\" href=\"/bbs/Beauty/index.html\">最新</a>\n",
       "</div>\n",
       "</div>\n",
       "</div>\n",
       "<div class=\"r-list-container action-bar-margin bbs-screen\">\n",
       "<div class=\"search-bar\">\n",
       "<form action=\"search\" id=\"search-bar\" type=\"get\">\n",
       "<input class=\"query\" name=\"q\" placeholder=\"搜尋文章⋯\" type=\"text\" value=\"\"/>\n",
       "</form>\n",
       "</div>\n",
       "<div class=\"r-ent\">\n",
       "<div class=\"nrec\"><span class=\"hl f3\">16</span></div>\n",
       "<div class=\"title\">\n",
       "<a href=\"/bbs/Beauty/M.1560942077.A.F6D.html\">[正妹] 出賣公司櫃檯稚氣小妹</a>\n",
       "</div>\n",
       "<div class=\"meta\">\n",
       "<div class=\"author\">sank</div>\n",
       "<div class=\"article-menu\">\n",
       "<div class=\"trigger\">⋯</div>\n",
       "<div class=\"dropdown\">\n",
       "<div class=\"item\"><a href=\"/bbs/Beauty/search?q=thread%3A%5B%E6%AD%A3%E5%A6%B9%5D+%E5%87%BA%E8%B3%A3%E5%85%AC%E5%8F%B8%E6%AB%83%E6%AA%AF%E7%A8%9A%E6%B0%A3%E5%B0%8F%E5%A6%B9\">搜尋同標題文章</a></div>\n",
       "<div class=\"item\"><a href=\"/bbs/Beauty/search?q=author%3Asank\">搜尋看板內 sank 的文章</a></div>\n",
       "</div>\n",
       "</div>\n",
       "<div class=\"date\"> 6/19</div>\n",
       "<div class=\"mark\"></div>\n",
       "</div>\n",
       "</div>\n",
       "<div class=\"r-ent\">\n",
       "<div class=\"nrec\"><span class=\"hl f2\">1</span></div>\n",
       "<div class=\"title\">\n",
       "<a href=\"/bbs/Beauty/M.1560942560.A.BA3.html\">[神人] 澎湖跳水的妹子</a>\n",
       "</div>\n",
       "<div class=\"meta\">\n",
       "<div class=\"author\">az7836507</div>\n",
       "<div class=\"article-menu\">\n",
       "<div class=\"trigger\">⋯</div>\n",
       "<div class=\"dropdown\">\n",
       "<div class=\"item\"><a href=\"/bbs/Beauty/search?q=thread%3A%5B%E7%A5%9E%E4%BA%BA%5D+%E6%BE%8E%E6%B9%96%E8%B7%B3%E6%B0%B4%E7%9A%84%E5%A6%B9%E5%AD%90\">搜尋同標題文章</a></div>\n",
       "<div class=\"item\"><a href=\"/bbs/Beauty/search?q=author%3Aaz7836507\">搜尋看板內 az7836507 的文章</a></div>\n",
       "</div>\n",
       "</div>\n",
       "<div class=\"date\"> 6/19</div>\n",
       "<div class=\"mark\"></div>\n",
       "</div>\n",
       "</div>\n",
       "<div class=\"r-ent\">\n",
       "<div class=\"nrec\"><span class=\"hl f0\">X4</span></div>\n",
       "<div class=\"title\">\n",
       "<a href=\"/bbs/Beauty/M.1560944549.A.F83.html\">[正妹] 輔大宋慧喬要畢業了哭哭</a>\n",
       "</div>\n",
       "<div class=\"meta\">\n",
       "<div class=\"author\">Berrt</div>\n",
       "<div class=\"article-menu\">\n",
       "<div class=\"trigger\">⋯</div>\n",
       "<div class=\"dropdown\">\n",
       "<div class=\"item\"><a href=\"/bbs/Beauty/search?q=thread%3A%5B%E6%AD%A3%E5%A6%B9%5D+%E8%BC%94%E5%A4%A7%E5%AE%8B%E6%85%A7%E5%96%AC%E8%A6%81%E7%95%A2%E6%A5%AD%E4%BA%86%E5%93%AD%E5%93%AD\">搜尋同標題文章</a></div>\n",
       "<div class=\"item\"><a href=\"/bbs/Beauty/search?q=author%3ABerrt\">搜尋看板內 Berrt 的文章</a></div>\n",
       "</div>\n",
       "</div>\n",
       "<div class=\"date\"> 6/19</div>\n",
       "<div class=\"mark\"></div>\n",
       "</div>\n",
       "</div>\n",
       "<div class=\"r-ent\">\n",
       "<div class=\"nrec\"><span class=\"hl f2\">1</span></div>\n",
       "<div class=\"title\">\n",
       "<a href=\"/bbs/Beauty/M.1560947057.A.6F3.html\">[神人] Parachute - Young MV女主角</a>\n",
       "</div>\n",
       "<div class=\"meta\">\n",
       "<div class=\"author\">Secret69</div>\n",
       "<div class=\"article-menu\">\n",
       "<div class=\"trigger\">⋯</div>\n",
       "<div class=\"dropdown\">\n",
       "<div class=\"item\"><a href=\"/bbs/Beauty/search?q=thread%3A%5B%E7%A5%9E%E4%BA%BA%5D+Parachute+-+Young+MV%E5%A5%B3%E4%B8%BB%E8%A7%92\">搜尋同標題文章</a></div>\n",
       "<div class=\"item\"><a href=\"/bbs/Beauty/search?q=author%3ASecret69\">搜尋看板內 Secret69 的文章</a></div>\n",
       "</div>\n",
       "</div>\n",
       "<div class=\"date\"> 6/19</div>\n",
       "<div class=\"mark\"></div>\n",
       "</div>\n",
       "</div>\n",
       "<div class=\"r-ent\">\n",
       "<div class=\"nrec\"><span class=\"hl f3\">22</span></div>\n",
       "<div class=\"title\">\n",
       "<a href=\"/bbs/Beauty/M.1560949475.A.2B5.html\">[正妹] 生田絵梨花</a>\n",
       "</div>\n",
       "<div class=\"meta\">\n",
       "<div class=\"author\">murmur38</div>\n",
       "<div class=\"article-menu\">\n",
       "<div class=\"trigger\">⋯</div>\n",
       "<div class=\"dropdown\">\n",
       "<div class=\"item\"><a href=\"/bbs/Beauty/search?q=thread%3A%5B%E6%AD%A3%E5%A6%B9%5D+%E7%94%9F%E7%94%B0%E7%B5%B5%E6%A2%A8%E8%8A%B1\">搜尋同標題文章</a></div>\n",
       "<div class=\"item\"><a href=\"/bbs/Beauty/search?q=author%3Amurmur38\">搜尋看板內 murmur38 的文章</a></div>\n",
       "</div>\n",
       "</div>\n",
       "<div class=\"date\"> 6/19</div>\n",
       "<div class=\"mark\"></div>\n",
       "</div>\n",
       "</div>\n",
       "<div class=\"r-ent\">\n",
       "<div class=\"nrec\"><span class=\"hl f2\">6</span></div>\n",
       "<div class=\"title\">\n",
       "<a href=\"/bbs/Beauty/M.1560949998.A.13D.html\">[正妹] 白色比基尼</a>\n",
       "</div>\n",
       "<div class=\"meta\">\n",
       "<div class=\"author\">wjmd92</div>\n",
       "<div class=\"article-menu\">\n",
       "<div class=\"trigger\">⋯</div>\n",
       "<div class=\"dropdown\">\n",
       "<div class=\"item\"><a href=\"/bbs/Beauty/search?q=thread%3A%5B%E6%AD%A3%E5%A6%B9%5D+%E7%99%BD%E8%89%B2%E6%AF%94%E5%9F%BA%E5%B0%BC\">搜尋同標題文章</a></div>\n",
       "<div class=\"item\"><a href=\"/bbs/Beauty/search?q=author%3Awjmd92\">搜尋看板內 wjmd92 的文章</a></div>\n",
       "</div>\n",
       "</div>\n",
       "<div class=\"date\"> 6/19</div>\n",
       "<div class=\"mark\"></div>\n",
       "</div>\n",
       "</div>\n",
       "<div class=\"r-ent\">\n",
       "<div class=\"nrec\"><span class=\"hl f3\">11</span></div>\n",
       "<div class=\"title\">\n",
       "<a href=\"/bbs/Beauty/M.1560952192.A.2BA.html\">[正妹] 洋妞</a>\n",
       "</div>\n",
       "<div class=\"meta\">\n",
       "<div class=\"author\">ed106242</div>\n",
       "<div class=\"article-menu\">\n",
       "<div class=\"trigger\">⋯</div>\n",
       "<div class=\"dropdown\">\n",
       "<div class=\"item\"><a href=\"/bbs/Beauty/search?q=thread%3A%5B%E6%AD%A3%E5%A6%B9%5D+%E6%B4%8B%E5%A6%9E\">搜尋同標題文章</a></div>\n",
       "<div class=\"item\"><a href=\"/bbs/Beauty/search?q=author%3Aed106242\">搜尋看板內 ed106242 的文章</a></div>\n",
       "</div>\n",
       "</div>\n",
       "<div class=\"date\"> 6/19</div>\n",
       "<div class=\"mark\"></div>\n",
       "</div>\n",
       "</div>\n",
       "<div class=\"r-ent\">\n",
       "<div class=\"nrec\"></div>\n",
       "<div class=\"title\">\n",
       "<a href=\"/bbs/Beauty/M.1560953372.A.368.html\">[神人] 登革熱退散 高雄大發財</a>\n",
       "</div>\n",
       "<div class=\"meta\">\n",
       "<div class=\"author\">whsian</div>\n",
       "<div class=\"article-menu\">\n",
       "<div class=\"trigger\">⋯</div>\n",
       "<div class=\"dropdown\">\n",
       "<div class=\"item\"><a href=\"/bbs/Beauty/search?q=thread%3A%5B%E7%A5%9E%E4%BA%BA%5D+%E7%99%BB%E9%9D%A9%E7%86%B1%E9%80%80%E6%95%A3+%E9%AB%98%E9%9B%84%E5%A4%A7%E7%99%BC%E8%B2%A1\">搜尋同標題文章</a></div>\n",
       "<div class=\"item\"><a href=\"/bbs/Beauty/search?q=author%3Awhsian\">搜尋看板內 whsian 的文章</a></div>\n",
       "</div>\n",
       "</div>\n",
       "<div class=\"date\"> 6/19</div>\n",
       "<div class=\"mark\"></div>\n",
       "</div>\n",
       "</div>\n",
       "<div class=\"r-ent\">\n",
       "<div class=\"nrec\"><span class=\"hl f3\">12</span></div>\n",
       "<div class=\"title\">\n",
       "<a href=\"/bbs/Beauty/M.1560953926.A.CD0.html\">[正妹] 泰德混血妹子</a>\n",
       "</div>\n",
       "<div class=\"meta\">\n",
       "<div class=\"author\">Alsine</div>\n",
       "<div class=\"article-menu\">\n",
       "<div class=\"trigger\">⋯</div>\n",
       "<div class=\"dropdown\">\n",
       "<div class=\"item\"><a href=\"/bbs/Beauty/search?q=thread%3A%5B%E6%AD%A3%E5%A6%B9%5D+%E6%B3%B0%E5%BE%B7%E6%B7%B7%E8%A1%80%E5%A6%B9%E5%AD%90\">搜尋同標題文章</a></div>\n",
       "<div class=\"item\"><a href=\"/bbs/Beauty/search?q=author%3AAlsine\">搜尋看板內 Alsine 的文章</a></div>\n",
       "</div>\n",
       "</div>\n",
       "<div class=\"date\"> 6/19</div>\n",
       "<div class=\"mark\"></div>\n",
       "</div>\n",
       "</div>\n",
       "<div class=\"r-ent\">\n",
       "<div class=\"nrec\"><span class=\"hl f2\">6</span></div>\n",
       "<div class=\"title\">\n",
       "<a href=\"/bbs/Beauty/M.1560956687.A.1BE.html\">[神人] 幫神一張奶霸</a>\n",
       "</div>\n",
       "<div class=\"meta\">\n",
       "<div class=\"author\">lude71</div>\n",
       "<div class=\"article-menu\">\n",
       "<div class=\"trigger\">⋯</div>\n",
       "<div class=\"dropdown\">\n",
       "<div class=\"item\"><a href=\"/bbs/Beauty/search?q=thread%3A%5B%E7%A5%9E%E4%BA%BA%5D+%E5%B9%AB%E7%A5%9E%E4%B8%80%E5%BC%B5%E5%A5%B6%E9%9C%B8\">搜尋同標題文章</a></div>\n",
       "<div class=\"item\"><a href=\"/bbs/Beauty/search?q=author%3Alude71\">搜尋看板內 lude71 的文章</a></div>\n",
       "</div>\n",
       "</div>\n",
       "<div class=\"date\"> 6/19</div>\n",
       "<div class=\"mark\"></div>\n",
       "</div>\n",
       "</div>\n",
       "<div class=\"r-ent\">\n",
       "<div class=\"nrec\"><span class=\"hl f2\">5</span></div>\n",
       "<div class=\"title\">\n",
       "<a href=\"/bbs/Beauty/M.1560958334.A.AE0.html\">[神人] 神一位美腿女子</a>\n",
       "</div>\n",
       "<div class=\"meta\">\n",
       "<div class=\"author\">kill426</div>\n",
       "<div class=\"article-menu\">\n",
       "<div class=\"trigger\">⋯</div>\n",
       "<div class=\"dropdown\">\n",
       "<div class=\"item\"><a href=\"/bbs/Beauty/search?q=thread%3A%5B%E7%A5%9E%E4%BA%BA%5D+%E7%A5%9E%E4%B8%80%E4%BD%8D%E7%BE%8E%E8%85%BF%E5%A5%B3%E5%AD%90\">搜尋同標題文章</a></div>\n",
       "<div class=\"item\"><a href=\"/bbs/Beauty/search?q=author%3Akill426\">搜尋看板內 kill426 的文章</a></div>\n",
       "</div>\n",
       "</div>\n",
       "<div class=\"date\"> 6/19</div>\n",
       "<div class=\"mark\"></div>\n",
       "</div>\n",
       "</div>\n",
       "<div class=\"r-ent\">\n",
       "<div class=\"nrec\"><span class=\"hl f2\">4</span></div>\n",
       "<div class=\"title\">\n",
       "<a href=\"/bbs/Beauty/M.1560959771.A.27C.html\">[正妹] 忍野忍不住</a>\n",
       "</div>\n",
       "<div class=\"meta\">\n",
       "<div class=\"author\">ryanworld</div>\n",
       "<div class=\"article-menu\">\n",
       "<div class=\"trigger\">⋯</div>\n",
       "<div class=\"dropdown\">\n",
       "<div class=\"item\"><a href=\"/bbs/Beauty/search?q=thread%3A%5B%E6%AD%A3%E5%A6%B9%5D+%E5%BF%8D%E9%87%8E%E5%BF%8D%E4%B8%8D%E4%BD%8F\">搜尋同標題文章</a></div>\n",
       "<div class=\"item\"><a href=\"/bbs/Beauty/search?q=author%3Aryanworld\">搜尋看板內 ryanworld 的文章</a></div>\n",
       "</div>\n",
       "</div>\n",
       "<div class=\"date\"> 6/19</div>\n",
       "<div class=\"mark\"></div>\n",
       "</div>\n",
       "</div>\n",
       "<div class=\"r-ent\">\n",
       "<div class=\"nrec\"></div>\n",
       "<div class=\"title\">\n",
       "<a href=\"/bbs/Beauty/M.1560959977.A.23D.html\">[神人] 幫神記者</a>\n",
       "</div>\n",
       "<div class=\"meta\">\n",
       "<div class=\"author\">vul3vmp4</div>\n",
       "<div class=\"article-menu\">\n",
       "<div class=\"trigger\">⋯</div>\n",
       "<div class=\"dropdown\">\n",
       "<div class=\"item\"><a href=\"/bbs/Beauty/search?q=thread%3A%5B%E7%A5%9E%E4%BA%BA%5D+%E5%B9%AB%E7%A5%9E%E8%A8%98%E8%80%85\">搜尋同標題文章</a></div>\n",
       "<div class=\"item\"><a href=\"/bbs/Beauty/search?q=author%3Avul3vmp4\">搜尋看板內 vul3vmp4 的文章</a></div>\n",
       "</div>\n",
       "</div>\n",
       "<div class=\"date\"> 6/19</div>\n",
       "<div class=\"mark\"></div>\n",
       "</div>\n",
       "</div>\n",
       "<div class=\"r-ent\">\n",
       "<div class=\"nrec\"></div>\n",
       "<div class=\"title\">\n",
       "<a href=\"/bbs/Beauty/M.1560960777.A.9DD.html\">[正妹] 三重縣民</a>\n",
       "</div>\n",
       "<div class=\"meta\">\n",
       "<div class=\"author\">as314</div>\n",
       "<div class=\"article-menu\">\n",
       "<div class=\"trigger\">⋯</div>\n",
       "<div class=\"dropdown\">\n",
       "<div class=\"item\"><a href=\"/bbs/Beauty/search?q=thread%3A%5B%E6%AD%A3%E5%A6%B9%5D+%E4%B8%89%E9%87%8D%E7%B8%A3%E6%B0%91\">搜尋同標題文章</a></div>\n",
       "<div class=\"item\"><a href=\"/bbs/Beauty/search?q=author%3Aas314\">搜尋看板內 as314 的文章</a></div>\n",
       "</div>\n",
       "</div>\n",
       "<div class=\"date\"> 6/20</div>\n",
       "<div class=\"mark\"></div>\n",
       "</div>\n",
       "</div>\n",
       "<div class=\"r-ent\">\n",
       "<div class=\"nrec\"></div>\n",
       "<div class=\"title\">\n",
       "<a href=\"/bbs/Beauty/M.1560961553.A.DFC.html\">[正妹] 剪刀拿來開剪啦</a>\n",
       "</div>\n",
       "<div class=\"meta\">\n",
       "<div class=\"author\">loveyachi</div>\n",
       "<div class=\"article-menu\">\n",
       "<div class=\"trigger\">⋯</div>\n",
       "<div class=\"dropdown\">\n",
       "<div class=\"item\"><a href=\"/bbs/Beauty/search?q=thread%3A%5B%E6%AD%A3%E5%A6%B9%5D+%E5%89%AA%E5%88%80%E6%8B%BF%E4%BE%86%E9%96%8B%E5%89%AA%E5%95%A6\">搜尋同標題文章</a></div>\n",
       "<div class=\"item\"><a href=\"/bbs/Beauty/search?q=author%3Aloveyachi\">搜尋看板內 loveyachi 的文章</a></div>\n",
       "</div>\n",
       "</div>\n",
       "<div class=\"date\"> 6/20</div>\n",
       "<div class=\"mark\"></div>\n",
       "</div>\n",
       "</div>\n",
       "<div class=\"r-list-sep\"></div>\n",
       "<div class=\"r-ent\">\n",
       "<div class=\"nrec\"><span class=\"hl f0\">XX</span></div>\n",
       "<div class=\"title\">\n",
       "<a href=\"/bbs/Beauty/M.1557742996.A.657.html\">[公告] 開放噓文暫停X1條款</a>\n",
       "</div>\n",
       "<div class=\"meta\">\n",
       "<div class=\"author\">hateOnas</div>\n",
       "<div class=\"article-menu\">\n",
       "<div class=\"trigger\">⋯</div>\n",
       "<div class=\"dropdown\">\n",
       "<div class=\"item\"><a href=\"/bbs/Beauty/search?q=thread%3A%5B%E5%85%AC%E5%91%8A%5D+%E9%96%8B%E6%94%BE%E5%99%93%E6%96%87%E6%9A%AB%E5%81%9CX1%E6%A2%9D%E6%AC%BE\">搜尋同標題文章</a></div>\n",
       "<div class=\"item\"><a href=\"/bbs/Beauty/search?q=author%3AhateOnas\">搜尋看板內 hateOnas 的文章</a></div>\n",
       "</div>\n",
       "</div>\n",
       "<div class=\"date\"> 5/13</div>\n",
       "<div class=\"mark\">M</div>\n",
       "</div>\n",
       "</div>\n",
       "<div class=\"r-ent\">\n",
       "<div class=\"nrec\"><span class=\"hl f3\">23</span></div>\n",
       "<div class=\"title\">\n",
       "<a href=\"/bbs/Beauty/M.1558415952.A.8D7.html\">[公告] 不願上表特 ＆ 優文推薦 ＆ 檢舉建議專區</a>\n",
       "</div>\n",
       "<div class=\"meta\">\n",
       "<div class=\"author\">hateOnas</div>\n",
       "<div class=\"article-menu\">\n",
       "<div class=\"trigger\">⋯</div>\n",
       "<div class=\"dropdown\">\n",
       "<div class=\"item\"><a href=\"/bbs/Beauty/search?q=thread%3A%5B%E5%85%AC%E5%91%8A%5D+%E4%B8%8D%E9%A1%98%E4%B8%8A%E8%A1%A8%E7%89%B9+%EF%BC%86+%E5%84%AA%E6%96%87%E6%8E%A8%E8%96%A6+%EF%BC%86+%E6%AA%A2%E8%88%89%E5%BB%BA%E8%AD%B0%E5%B0%88%E5%8D%80\">搜尋同標題文章</a></div>\n",
       "<div class=\"item\"><a href=\"/bbs/Beauty/search?q=author%3AhateOnas\">搜尋看板內 hateOnas 的文章</a></div>\n",
       "</div>\n",
       "</div>\n",
       "<div class=\"date\"> 5/21</div>\n",
       "<div class=\"mark\"></div>\n",
       "</div>\n",
       "</div>\n",
       "<div class=\"r-ent\">\n",
       "<div class=\"nrec\"><span class=\"hl f2\">2</span></div>\n",
       "<div class=\"title\">\n",
       "<a href=\"/bbs/Beauty/M.1559198987.A.D8F.html\">[公告] 表特板板規(2019.5.30)</a>\n",
       "</div>\n",
       "<div class=\"meta\">\n",
       "<div class=\"author\">Forthelife</div>\n",
       "<div class=\"article-menu\">\n",
       "<div class=\"trigger\">⋯</div>\n",
       "<div class=\"dropdown\">\n",
       "<div class=\"item\"><a href=\"/bbs/Beauty/search?q=thread%3A%5B%E5%85%AC%E5%91%8A%5D+%E8%A1%A8%E7%89%B9%E6%9D%BF%E6%9D%BF%E8%A6%8F%282019.5.30%29\">搜尋同標題文章</a></div>\n",
       "<div class=\"item\"><a href=\"/bbs/Beauty/search?q=author%3AForthelife\">搜尋看板內 Forthelife 的文章</a></div>\n",
       "</div>\n",
       "</div>\n",
       "<div class=\"date\"> 5/30</div>\n",
       "<div class=\"mark\"></div>\n",
       "</div>\n",
       "</div>\n",
       "</div>\n",
       "</div>\n",
       "<script>\n",
       "  (function(i,s,o,g,r,a,m){i['GoogleAnalyticsObject']=r;i[r]=i[r]||function(){\n",
       "  (i[r].q=i[r].q||[]).push(arguments)},i[r].l=1*new Date();a=s.createElement(o),\n",
       "  m=s.getElementsByTagName(o)[0];a.async=1;a.src=g;m.parentNode.insertBefore(a,m)\n",
       "  })(window,document,'script','https://www.google-analytics.com/analytics.js','ga');\n",
       "\n",
       "  ga('create', 'UA-32365737-1', {\n",
       "    cookieDomain: 'ptt.cc',\n",
       "    legacyCookieDomain: 'ptt.cc'\n",
       "  });\n",
       "  ga('send', 'pageview');\n",
       "</script>\n",
       "<script src=\"//ajax.googleapis.com/ajax/libs/jquery/2.1.1/jquery.min.js\"></script>\n",
       "<script src=\"//images.ptt.cc/bbs/v2.25/bbs.js\"></script>\n",
       "</body>\n",
       "</html>"
      ]
     },
     "execution_count": 4,
     "metadata": {},
     "output_type": "execute_result"
    }
   ],
   "source": [
    "soup"
   ]
  },
  {
   "cell_type": "code",
   "execution_count": 5,
   "metadata": {},
   "outputs": [
    {
     "name": "stdout",
     "output_type": "stream",
     "text": [
      "<a class=\"btn wide\" href=\"/bbs/Beauty/index2971.html\">‹ 上頁</a>\n",
      "/bbs/Beauty/index2971.html\n",
      "2971\n"
     ]
    }
   ],
   "source": [
    "page_option = soup.find(id=\"action-bar-container\")\n",
    "\n",
    "tag = page_option.find_all(class_=\"btn wide\")[1]\n",
    "print(tag)\n",
    "\n",
    "link = tag.get('href')\n",
    "print(link)\n",
    "\n",
    "index = int(link[link.find('index')+5:link.find('.html')])\n",
    "print(index)"
   ]
  },
  {
   "cell_type": "code",
   "execution_count": 29,
   "metadata": {},
   "outputs": [
    {
     "name": "stdout",
     "output_type": "stream",
     "text": [
      "['https://www.ptt.cc/bbs/Beauty/index2971.html']\n"
     ]
    }
   ],
   "source": [
    "url_list = []\n",
    "for i in range(1):\n",
    "    url_list.append(\"https://www.ptt.cc/bbs/Beauty/index{}.html\".format(index-i))\n",
    "print(url_list)"
   ]
  },
  {
   "cell_type": "code",
   "execution_count": 30,
   "metadata": {},
   "outputs": [
    {
     "name": "stdout",
     "output_type": "stream",
     "text": [
      "start crawler page https://www.ptt.cc/bbs/Beauty/index2971.html\n",
      "本文已被刪除\n",
      "\n",
      "subject=[正妹] 營養不錯\n",
      "link=/bbs/Beauty/M.1560863408.A.0F9.html\n",
      "date=[' 6', '18']\n",
      "\n",
      "subject=[正妹] 噓了又來信求門是什麼心態？\n",
      "link=/bbs/Beauty/M.1560863764.A.805.html\n",
      "date=[' 6', '18']\n",
      "\n",
      "subject=[正妹] IZ*ONE 矢吹奈子\n",
      "link=/bbs/Beauty/M.1560863954.A.167.html\n",
      "date=[' 6', '18']\n",
      "\n",
      "subject=[正妹] 混血學生妹\n",
      "link=/bbs/Beauty/M.1560867284.A.70C.html\n",
      "date=[' 6', '18']\n",
      "\n",
      "本文已被刪除\n",
      "\n",
      "subject=[正妹] 山本美月 vs 木村文乃\n",
      "link=/bbs/Beauty/M.1560869358.A.226.html\n",
      "date=[' 6', '18']\n",
      "\n",
      "subject=[正妹] 純兩張\n",
      "link=/bbs/Beauty/M.1560870347.A.0A1.html\n",
      "date=[' 6', '18']\n",
      "\n",
      "subject=[正妹] 日本妹子\n",
      "link=/bbs/Beauty/M.1560871672.A.562.html\n",
      "date=[' 6', '18']\n",
      "\n",
      "subject=[正妹] 長澤雅美的一些新雜誌圖\n",
      "link=/bbs/Beauty/M.1560873277.A.A05.html\n",
      "date=[' 6', '18']\n",
      "\n",
      "subject=[神人] 外國妹子拉弓打到胸部\n",
      "link=/bbs/Beauty/M.1560873797.A.A73.html\n",
      "date=[' 6', '19']\n",
      "\n",
      "subject=[神人] 6/4長榮抗議妹\n",
      "link=/bbs/Beauty/M.1560876911.A.1DC.html\n",
      "date=[' 6', '19']\n",
      "\n",
      "subject=[神人] FB潔牙用品廣告\n",
      "link=/bbs/Beauty/M.1560878667.A.66D.html\n",
      "date=[' 6', '19']\n",
      "\n",
      "subject=[正妹] 想嫁給韓國人的越南妹\n",
      "link=/bbs/Beauty/M.1560903554.A.343.html\n",
      "date=[' 6', '19']\n",
      "\n",
      "subject=[廣告]香港美胸Coser《BaoBao》專訪\n",
      "link=/bbs/Beauty/M.1560915538.A.119.html\n",
      "date=[' 6', '19']\n",
      "\n",
      "subject=[新聞] 正妹女大生從小愛動物 許「浪浪們」都有\n",
      "link=/bbs/Beauty/M.1560919755.A.2A9.html\n",
      "date=[' 6', '19']\n",
      "\n",
      "subject=[正妹] 烏龜的頭\n",
      "link=/bbs/Beauty/M.1560929377.A.CDC.html\n",
      "date=[' 6', '19']\n",
      "\n",
      "subject=[正妹] 俏皮表情 \n",
      "link=/bbs/Beauty/M.1560931980.A.7B2.html\n",
      "date=[' 6', '19']\n",
      "\n",
      "subject=[正妹] 有禮貌的子瑜\n",
      "link=/bbs/Beauty/M.1560940490.A.795.html\n",
      "date=[' 6', '19']\n",
      "\n",
      "subject=[正妹] 非常兇Essie Halladay\n",
      "link=/bbs/Beauty/M.1560941761.A.F34.html\n",
      "date=[' 6', '19']\n",
      "\n"
     ]
    },
    {
     "name": "stderr",
     "output_type": "stream",
     "text": [
      "/home/clarck/anaconda3/lib/python3.6/site-packages/urllib3/connectionpool.py:847: InsecureRequestWarning: Unverified HTTPS request is being made. Adding certificate verification is strongly advised. See: https://urllib3.readthedocs.io/en/latest/advanced-usage.html#ssl-warnings\n",
      "  InsecureRequestWarning)\n"
     ]
    }
   ],
   "source": [
    "while url_list:\n",
    "    url = url_list.pop(0)\n",
    "    res = rs.get(url, verify=False)\n",
    "    soup = BeautifulSoup(res.text, 'html.parser')\n",
    "    \n",
    "    print(\"start crawler page {}\".format(url))\n",
    "    \n",
    "    for r_ent in soup.find_all(class_=\"r-ent\"):\n",
    "        try:\n",
    "            subject = r_ent.find('div', class_=\"title\")\n",
    "            if subject.a == None:\n",
    "                print(\"本文已被刪除\")\n",
    "                print(\"\")\n",
    "                continue\n",
    "            print(\"subject={}\".format(subject.a.string))                \n",
    "                \n",
    "            link = r_ent.find('a')['href']\n",
    "            print(\"link={}\".format(link))\n",
    "\n",
    "            date = r_ent.find(\"div\", class_=\"date\")\n",
    "            print(\"date={}\".format(date.string.split('/')))\n",
    "                      \n",
    "            print(\"\")\n",
    "            \n",
    "            if r_ent.next_sibling:\n",
    "                if r_ent.next_sibling.next_sibling:\n",
    "                    next_class_type = r_ent.next_sibling.next_sibling.get('class')[0]\n",
    "                    if next_class_type == \"r-list-sep\":\n",
    "                        break\n",
    "\n",
    "    #         print(type(r_ent))\n",
    "\n",
    "        except Exception as e:\n",
    "            print('Error={}'.format(e))\n",
    "            print(r_ent)\n"
   ]
  },
  {
   "cell_type": "code",
   "execution_count": 36,
   "metadata": {},
   "outputs": [
    {
     "name": "stdout",
     "output_type": "stream",
     "text": [
      "2005-06-01 13:33:00\n",
      "2019-06-19 01:59:12\n",
      "2019\n"
     ]
    }
   ],
   "source": [
    "from datetime import datetime\n",
    "\n",
    "datetime_object = datetime.strptime('Jun 1 2005  1:33PM', '%b %d %Y %I:%M%p')\n",
    "print(datetime_object)\n",
    "\n",
    "datetime_object = datetime.strptime('2019/06/19 01:59:12', '%Y/%m/%d %H:%M:%S')\n",
    "print(datetime_object)\n",
    "\n",
    "print(datetime.now().year )"
   ]
  },
  {
   "cell_type": "code",
   "execution_count": 7,
   "metadata": {},
   "outputs": [
    {
     "ename": "SyntaxError",
     "evalue": "unexpected EOF while parsing (<ipython-input-7-1f71b3a5835d>, line 1)",
     "output_type": "error",
     "traceback": [
      "\u001b[0;36m  File \u001b[0;32m\"<ipython-input-7-1f71b3a5835d>\"\u001b[0;36m, line \u001b[0;32m1\u001b[0m\n\u001b[0;31m    for r_ent in soup.find_all(class_=\"r-ent\"):\u001b[0m\n\u001b[0m                                               ^\u001b[0m\n\u001b[0;31mSyntaxError\u001b[0m\u001b[0;31m:\u001b[0m unexpected EOF while parsing\n"
     ]
    }
   ],
   "source": [
    "for r_ent in soup.find_all(class_=\"r-ent\"):"
   ]
  },
  {
   "cell_type": "code",
   "execution_count": 8,
   "metadata": {},
   "outputs": [],
   "source": [
    "page_option = soup.find(id=\"action-bar-container\")"
   ]
  },
  {
   "cell_type": "code",
   "execution_count": 9,
   "metadata": {},
   "outputs": [
    {
     "data": {
      "text/plain": [
       "<div id=\"action-bar-container\">\n",
       "<div class=\"action-bar\">\n",
       "<div class=\"btn-group btn-group-dir\">\n",
       "<a class=\"btn selected\" href=\"/bbs/Beauty/index.html\">看板</a>\n",
       "<a class=\"btn\" href=\"/man/Beauty/index.html\">精華區</a>\n",
       "</div>\n",
       "<div class=\"btn-group btn-group-paging\">\n",
       "<a class=\"btn wide\" href=\"/bbs/Beauty/index1.html\">最舊</a>\n",
       "<a class=\"btn wide\" href=\"/bbs/Beauty/index2971.html\">‹ 上頁</a>\n",
       "<a class=\"btn wide disabled\">下頁 ›</a>\n",
       "<a class=\"btn wide\" href=\"/bbs/Beauty/index.html\">最新</a>\n",
       "</div>\n",
       "</div>\n",
       "</div>"
      ]
     },
     "execution_count": 9,
     "metadata": {},
     "output_type": "execute_result"
    }
   ],
   "source": [
    "page_option"
   ]
  },
  {
   "cell_type": "code",
   "execution_count": 10,
   "metadata": {
    "scrolled": true
   },
   "outputs": [
    {
     "name": "stdout",
     "output_type": "stream",
     "text": [
      "<a class=\"btn wide\" href=\"/bbs/Beauty/index1.html\">最舊</a>\n",
      "<a class=\"btn wide\" href=\"/bbs/Beauty/index2971.html\">‹ 上頁</a>\n",
      "!\n",
      "<a class=\"btn wide\" href=\"/bbs/Beauty/index.html\">最新</a>\n"
     ]
    }
   ],
   "source": [
    "for btn in page_option.find_all(class_=\"btn wide\"):\n",
    "    print(btn)\n",
    "    if \"‹ 上頁\" in btn :\n",
    "        print(\"!\")\n",
    "    "
   ]
  },
  {
   "cell_type": "code",
   "execution_count": 21,
   "metadata": {},
   "outputs": [
    {
     "data": {
      "text/plain": [
       "<a class=\"btn wide\" href=\"/bbs/Beauty/index2971.html\">‹ 上頁</a>"
      ]
     },
     "execution_count": 21,
     "metadata": {},
     "output_type": "execute_result"
    }
   ],
   "source": [
    "tag = page_option.find_all(class_=\"btn wide\")[1]\n",
    "tag"
   ]
  },
  {
   "cell_type": "code",
   "execution_count": 27,
   "metadata": {},
   "outputs": [
    {
     "data": {
      "text/plain": [
       "'/bbs/Beauty/index2971.html'"
      ]
     },
     "execution_count": 27,
     "metadata": {},
     "output_type": "execute_result"
    }
   ],
   "source": [
    "link = tag.get('href')\n",
    "link"
   ]
  },
  {
   "cell_type": "code",
   "execution_count": 30,
   "metadata": {},
   "outputs": [
    {
     "name": "stdout",
     "output_type": "stream",
     "text": [
      "2971\n"
     ]
    }
   ],
   "source": [
    "index = int(link[link.find('index')+5:link.find('.html')])\n",
    "print(index)"
   ]
  }
 ],
 "metadata": {
  "kernelspec": {
   "display_name": "Python 3",
   "language": "python",
   "name": "python3"
  },
  "language_info": {
   "codemirror_mode": {
    "name": "ipython",
    "version": 3
   },
   "file_extension": ".py",
   "mimetype": "text/x-python",
   "name": "python",
   "nbconvert_exporter": "python",
   "pygments_lexer": "ipython3",
   "version": "3.6.8"
  }
 },
 "nbformat": 4,
 "nbformat_minor": 2
}
